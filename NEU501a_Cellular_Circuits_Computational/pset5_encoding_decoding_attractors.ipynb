{
  "nbformat": 4,
  "nbformat_minor": 0,
  "metadata": {
    "colab": {
      "provenance": []
    },
    "kernelspec": {
      "name": "python3",
      "display_name": "Python 3"
    }
  },
  "cells": [
    {
      "cell_type": "markdown",
      "metadata": {
        "id": "QeoQQqseuXNR"
      },
      "source": [
        "# Problem Set 5\n",
        "\n",
        "Written by Jess Breda & Max Argon with inspiration from work by Yotam Sagiv.\n",
        "\n",
        "A note on grading: You will be graded on correctness and also clarity. That means code should be readable and commented. For all plots, make sure to label your axes.\n"
      ]
    },
    {
      "cell_type": "markdown",
      "metadata": {
        "id": "ytBzXAFnuao9"
      },
      "source": [
        "## Part 1: Encoding & Decoding models [15]\n",
        "\n",
        "As discussed both in lecture and in precept, encoding models are a way of mapping some natural quantity into a particular representation for that quantity. In neuroscience, this is often a mapping from some natural space into either spikes or spike rates (e.g. the orientation of a light bar into spike rates for V1 simple cells). In a sense, you can think of them as following the actual order of information-processing in the brain -- stimuli go in, resulting in spikes or changes in spike rates.\n",
        "\n",
        "This provides us with a way of rigorously and explicitly constructing theories of neural function. Committing to a formal mathematical model allows us to use a variety of computational tools to test our understanding of the dynamics underlying a neural population (e.g. how it responds to stimuli, how any relevant input affect behavioural output, etc.).\n"
      ]
    },
    {
      "cell_type": "markdown",
      "metadata": {
        "id": "h5Wf-bnkuegs"
      },
      "source": [
        "### Building a hippocampal place cell model\n",
        "\n",
        "To illustrate all of these ideas, we're going to simulate the activity of some \"place cells\". Our encoding model will be as follows: we assume that the tuning curve of each neuron has a Gaussian shape, with height 15 and variance 1, centered over its preferred location. \n",
        "\n",
        "That is, the firing rate of neuron $i$ at location $x$ is: \n",
        "\n",
        "$$r(x, \\mu_i) = k \\cdot \\text{normpdf}(x ; \\mu_i, 1)$$ \n",
        "\n",
        "Here, $\\mu_i$ is the preferred location of the neuron, $\\text{normpdf}(x ; \\mu, \\sigma^2)$ indicates the normal distribution with mean $\\mu$ and variance $\\sigma^2$ evaluated at $x$, and $k$ is a scale factor that we throw in front to make the height 15. "
      ]
    },
    {
      "cell_type": "code",
      "metadata": {
        "id": "2Amw-NOkuho7"
      },
      "source": [
        "import numpy as np\n",
        "from scipy.stats import norm\n",
        "import matplotlib.pyplot as plt\n",
        "import seaborn as sns\n",
        "from scipy.stats import poisson\n",
        "sns.set_context('notebook')"
      ],
      "execution_count": null,
      "outputs": []
    },
    {
      "cell_type": "markdown",
      "metadata": {
        "id": "aYeYpgpEuqcb"
      },
      "source": [
        "### Question 1.1 [1]\n",
        "\n",
        "Encoding models map an input quantity to an output representation. For this example, what is the input quantity? What is the output representation?\n",
        "\n",
        "><font color=\"firebrick\">Answer here"
      ]
    },
    {
      "cell_type": "markdown",
      "metadata": {
        "id": "WqY4YcXZum6g"
      },
      "source": [
        "### Question 1.2 [1]\n",
        "Implementing the equation above, write a function that evaluates the firing rate of a neuron at a location $x$, given its preferred location $\\mu$. Please documents your inputs & returns."
      ]
    },
    {
      "cell_type": "code",
      "metadata": {
        "id": "iKQwbf9Huu98"
      },
      "source": [
        "## Code here ## "
      ],
      "execution_count": null,
      "outputs": []
    },
    {
      "cell_type": "markdown",
      "metadata": {
        "id": "4YJRZ4PJu3h2"
      },
      "source": [
        "### Question 1.3 [2.5]\n",
        "Using this function, plot the tuning curves of 21 independent neurons that have preferred locations on all the integers between -10 and 10 (inclusive). Plot all the tuning curves on the same x-axis."
      ]
    },
    {
      "cell_type": "code",
      "metadata": {
        "id": "O0PU3Zsju31R"
      },
      "source": [
        "## Code here ## "
      ],
      "execution_count": null,
      "outputs": []
    },
    {
      "cell_type": "markdown",
      "metadata": {
        "id": "2DnSlFyzu5Nr"
      },
      "source": [
        "Now that we have the ability to compute firing rates for our 21-neuron population, let's simulate some activity from them. This requires us to translate the firing rates computed by our encoding model into spike counts. \n",
        "\n",
        "A popular method of doing this is by sampling from the Poisson distribution. As discussed in precept, the Poisson distribution tells us the probability of a particular number of events occurring in a time period, given a constant rate. In our case, the events are the number of spikes generated by a neuron, given the rate computed by our encoding model. \n",
        "\n",
        "That is, we will sample a spike count $c_i$ for neuron $i$ at location $x$: $c_i \\sim Pois(r(x, \\mu_i))$\n",
        "\n",
        "Recall that $r(x, \\mu_i)$ is the firing rate of a neuron with preferred location $\\mu_i$ at location $x$."
      ]
    },
    {
      "cell_type": "markdown",
      "metadata": {
        "id": "G00NZ_XQvBoG"
      },
      "source": [
        "### Question 1.4 [2.5]\n",
        "\n",
        "For each neuron created in 1.3, sample a spike count assuming a location of $x=-1$. Plot the population response on one axis as a function of each neuron's preferred location. Hint: remember that $r(x, \\mu_i) = k \\cdot \\text{normpdf}(x ; \\mu_i, 1)$ ie use the function you already wrote to help you here.\n",
        "\n",
        "\n"
      ]
    },
    {
      "cell_type": "code",
      "metadata": {
        "id": "tppoRFkAvFOS"
      },
      "source": [
        "## Code here ## "
      ],
      "execution_count": null,
      "outputs": []
    },
    {
      "cell_type": "markdown",
      "metadata": {
        "id": "FYzqvXGIvM37"
      },
      "source": [
        "### Decoding from hippocampal place cells\n",
        "\n",
        "Up until now, we've been working with encoding -- that is, taking some natural quantity (such as the orientation of a light bar for V1 simple cells) and converting it to spikes. In this section we'll look at how we can invert this process (e.g. estimating the orientation of a light bar by looking at the spikes encoding it). This is called decoding.\n",
        "\n",
        "As neuroscientists, we principally care about decoding for two reasons. It is a way to validate our encoding models: if our encoding model is good, we should be able to recover the input used to generate a neural response by directly inverting the encoding model. More generally, however, decoding is a way of testing whether a given neural code carries a particular type of information. For example, if we can reliably decode an animal's velocity from a certain neural population, this tells us that those neurons carry structured information about velocity.\n",
        "\n",
        "\n",
        "There are a variety of different decoding methods, each with a different set of assumptions and accepted risk factors with respect to the encoding model. For example, winner-take-all (WTA) decoding returns the stimulus preferred by the **most active** neuron in the population. \n",
        "\n",
        "That is: \n",
        "\n",
        "$$ x_{WTA} = \\mu_j \\\\j = \\arg\\,\\max_{i} r_i$$"
      ]
    },
    {
      "cell_type": "markdown",
      "metadata": {
        "id": "nNLL-CD6viJQ"
      },
      "source": [
        "### Question 1.5 [2]\n",
        "\n",
        "Write a function that implements a WTA decoder for the population response $\\vec{r}$ of your 21 place cells. Then, perform WTA on your output from your simulation in 1.4"
      ]
    },
    {
      "cell_type": "code",
      "metadata": {
        "id": "Ro3r7M4Yvikl"
      },
      "source": [
        "## Code here ## "
      ],
      "execution_count": null,
      "outputs": []
    },
    {
      "cell_type": "markdown",
      "metadata": {
        "id": "oaO4bm9pvqeW"
      },
      "source": [
        "The WTA decoder does not really make great use of the encoding model. In fact, it doesn't really use it at all. If we would like to use our encoding model, we should make the following observation: our model tells us the probability of a neuron emitting a particular response, given an input location. That is, it gives us $P(c_i~|~\\mu_i,~x)$. Since we're assuming neural responses are independent, then the probability of the whole population response is just the product of the individual neural response probabilities: $P(\\vec{r}~|~\\vec{\\mu},~x) = \\prod_{i=1}^{21}P(c_i~|~\\mu_i,~x)$.\n",
        "\n",
        "In maximum-likelihood estimation (MLE), we are looking for the $x$ that maximizes the likelihood function -- i.e., the $x$ that has the highest $P(\\vec{r}~|~\\vec{\\mu},~x)$. There are a number of sophisticated ways we can find it (this is a field of research called \"optimization\"), but for now, we will do grid search. In grid search, we divide the stimulus domain into very small steps and then individually test each step to look for the best one.\n",
        "\n",
        "Finally, a note on implementation. When doing MLE we are looking for the maximizer $x$ of the likelihood function $P(\\vec{r}~|~\\vec{\\mu},~x) = \\prod_{i=1}^{21}P(c_i~|~\\mu_i,~x)$. In practice, we will often choose to find the maximizer $x$ of the **log** of the likelihood (log-likelihood). The reason for this is that in the standard likelihood computation, we have to compute this product $\\prod_{i=1}^{21}P(c_i~|~\\mu_i,~x)$ -- but unfortunately products of probabilities tend to get small very quickly and computers have issues dealing with very small quantities. Instead, taking the logarithm allows us to compute $\\log P(\\vec{r}~|~\\vec{\\mu},~x) = \\sum_{i=1}^{21}\\log P(c_i~|~\\mu_i,~x)$. Since this is a sum, and due to the properties of the logarithm function, the log-likelihood becomes small at a **much** slower rate than the standard likelihood function. Since the maximizer for both will be the same, in practice people almost always do MLE with the log-likelihood than the likelihood for non-trivial datasets. (Note, this is not a trivial idea, but it is an important practical one. If you don't understand why this works, you should try to figure it out by experimenting with some likelihood models and seeing what happens with a lot of data doing MLE over likelihood and log-likelihood.) "
      ]
    },
    {
      "cell_type": "markdown",
      "metadata": {
        "id": "2e8QfdtGvupr"
      },
      "source": [
        "### Driver Functions\n",
        "\n",
        "Below are the two functions you need to implement an MLE decoder for the population response $\\vec{r}$ of your 21 place cells. This operates through grid search -- i.e. by dividing the stimulus domain $[-10, 10]$ into very small steps (of size $dx = 0.1$), evaluating the log-likelihood at every location, and then returning the one that had the highest probability.\n"
      ]
    },
    {
      "cell_type": "code",
      "metadata": {
        "id": "5L3Tr1l_vvEu"
      },
      "source": [
        "def poission_log_likelihood(current_loc, preferred_loc, count):\n",
        "    \"\"\"Function that determines the log likelihood of observing spike counts,\n",
        "    given a stimulis current location and a neuron's preferred location\n",
        "    inputs:\n",
        "        - current_loc (int): current location of a stimulus\n",
        "        - preffered_loc (int): preferred location of a neuron\n",
        "        - counts (arr): encoded spike count values sampled from a poiss distribution \n",
        "    \n",
        "    outputs:\n",
        "        - log_likelihood (arr): log likelihood for each count passed into the function\n",
        "    -------------\n",
        "    Usage example\n",
        "    -------------\n",
        "    poisson LL of neuron w/ pref loc of -4 firing 0 spikes when the current location is -1:\n",
        "    poission_log_likelihood(-1, -4, 0)\n",
        "    \"\"\"\n",
        "    \n",
        "    # create poisson distribution for one current and prefered location, for one neuron.\n",
        "    # simulate_firing_rate needs to be filled in with the name of the function from part 1.1\n",
        "    #  Determine probability of seeing count x with probability mass function\n",
        "    LLH = (np.log(poisson(simulate_firing_rate(current_loc, preferred_loc)).pmf(count)))\n",
        "           \n",
        "    return LLH\n",
        "\n",
        "def log_likelihood_grid_search(grid, preferred_locs, counts):\n",
        "    \"\"\"\n",
        "    Function performs log likelihood over a grid of stimulus locations \n",
        "    and returns maximum likelihood location.\n",
        "    \n",
        "    inputs:\n",
        "        - grid (arr): dimensions to perform grid search on with log likelyhood\n",
        "        - preffered_loc (arr): preferred locations of neurons to test\n",
        "        - counts (arr): encoded spike count values sampled from a poiss distribution \n",
        "        *note counts and preffered_loc must have same length\n",
        "    \n",
        "    outputs:\n",
        "        - MLE_stim: stimulus location that had the highest likelihood via log MLE\n",
        "    -------------\n",
        "    Usage example\n",
        "    -------------\n",
        "    NOTE YOU WILL NEED TO CHANGE STEP SIZE TO BE 0.1 once you get everything running\n",
        "    grid = np.arange(-10,10.01,1) # initialize grid\n",
        "    stimuli = np.linspace(-10,10,21)\n",
        "    spike_counts =  [1, 2, 7, 13, 6, 4, 1, 0, 0, 0, 0, 0, 0, 0, 0, 0, 0, 0, 0, 0, 0]\n",
        "    \"\"\" \n",
        "    #create empty grid to push to\n",
        "    LLHs = -np.ones([len(preferred_locs), len(grid)])\n",
        "    \n",
        "    #iterate over each stimulus and sampled count to calculate LLHs across the location grid\n",
        "    for stim_idx in range(len(preferred_locs)):\n",
        "        for grid_idx,grid_loc in enumerate(grid):  \n",
        "            LLHs[stim_idx,grid_idx] = poission_log_likelihood(grid_loc, preferred_locs[stim_idx], counts[stim_idx])\n",
        "    \n",
        "    #sum each neuron across the grid (joint probability)\n",
        "    LLH_by_stim = np.sum(LLHs, axis = 0)\n",
        "    \n",
        "    #find the grid location with highest probability\n",
        "    MLE = np.argmax(LLH_by_stim)\n",
        "    \n",
        "    #return it\n",
        "    return grid[MLE]\n"
      ],
      "execution_count": null,
      "outputs": []
    },
    {
      "cell_type": "markdown",
      "metadata": {
        "id": "bRW-MiZhxUJJ"
      },
      "source": [
        "# Question 1.6 [3]\n",
        "\n",
        "Using the functions above run an experiment evaluating the decoding methods. \n",
        "\n",
        "Repeat the following **100 times**: sample a location  𝑥  uniformly from -10 to 10. Simulate the population response  𝑟⃗   to it, and then compute a location estimate from that response using the two decoders you implemented above. (you don't need to print any output yet)"
      ]
    },
    {
      "cell_type": "code",
      "metadata": {
        "id": "LdOS8oiqxVJH"
      },
      "source": [
        "## Code here ## "
      ],
      "execution_count": null,
      "outputs": []
    },
    {
      "cell_type": "markdown",
      "metadata": {
        "id": "2pEr1Z_LxckU"
      },
      "source": [
        "### Question 1.7 [3]\n",
        "\n",
        "Write of find a function that can compute mean sqaure error on your your two outputs. Make a bar graph showing the average MSE for each decoder with 95% confidence intervals (or some form of variance). Which method is better for these data?\n",
        "\n",
        "><font color=\"firebrick\">Answer here"
      ]
    },
    {
      "cell_type": "code",
      "metadata": {
        "id": "-XcuHpsZxdrF"
      },
      "source": [
        "## Code here ## "
      ],
      "execution_count": null,
      "outputs": []
    },
    {
      "cell_type": "markdown",
      "metadata": {
        "id": "b_S-2ndtxiec"
      },
      "source": [
        "## Part 2: Setting up a bump attractor connectivity matrix [7.5]\n",
        "\n",
        "---\n",
        "\n",
        "\n",
        "\n",
        "In this problem, you will set up a simulated network's connectivity matrix according to a \"connectivity kernel.\" A connectivity kernel is a pattern of weights that is applied identically to each neuron. For example, you might say that each neuron excites neurons close to it and inhibits neurons far from it. The kernel in this case is precisely the pattern of \"local excitation, distal inhibition.\"\n",
        "\n",
        "Bump attractor networks are set up in exactly this fashion (i.e. by specifying a kernel and then applying it to each neuron). In this section, you will set up a bump attractor network and simulate its activity."
      ]
    },
    {
      "cell_type": "markdown",
      "metadata": {
        "id": "qOM9R_EDxpYN"
      },
      "source": [
        "### Question 2.1 [2] \n",
        "Bump attractors employ a connectivity kernel composed of local excitation and global inhibition (i.e. neurons will excite their neighbours and receive global inhibitory drive). The function below accepts two indices `i, j` and returns the synaptic weight between them according to this rule. Use this function to set up a matrix $T$ containing all the synaptic weights for the bump attractor network with 10 neurons."
      ]
    },
    {
      "cell_type": "code",
      "metadata": {
        "id": "bOXwETb9xfgG"
      },
      "source": [
        "# Given two neuron idxs (i, j), return the strength of the connection from \n",
        "# j to i as a function of some parameters. Broadly, this implements a kernel\n",
        "# with local excitation and distal inhibition. \n",
        "def bump_synaptic_weights(i, j, w_e=1.4, sigma_e=4, g_i=0.4):\n",
        "    # Neurons are not connected to themselves\n",
        "    if i == j:\n",
        "        return 0\n",
        "    \n",
        "    # Approximately a Gaussian excitation envelope\n",
        "    scale_factor = w_e / sigma_e\n",
        "    power = (-(i - j) ** 2) / sigma_e\n",
        "    \n",
        "    return scale_factor * np.exp(power) - g_i\n",
        "\n",
        "\n",
        "## Write code to create T matrix here ## "
      ],
      "execution_count": null,
      "outputs": []
    },
    {
      "cell_type": "markdown",
      "metadata": {
        "id": "PBvU0CGdx2EL"
      },
      "source": [
        "### Question 2.2 [3] \n",
        "Plot the resultant weight matrix.  Do you notice any patterns? Why are they there? You should make reference to the idea of a connectivity kernel to answer this question.\n",
        "\n",
        "><font color=\"firebrick\">Answer here"
      ]
    },
    {
      "cell_type": "code",
      "metadata": {
        "id": "8lCYGAnIxtXc"
      },
      "source": [
        "## Plot weight matrix here ## "
      ],
      "execution_count": null,
      "outputs": []
    },
    {
      "cell_type": "markdown",
      "metadata": {
        "id": "TPqqiE8eyEjX"
      },
      "source": [
        "### Question 2.3 [2.5]\n",
        "As stated earlier, bump attractor models are essentially models of place cells. However, let's say you wanted to create a **grid** cell network, in which there is not a singular bump of activity, but a set of multiple bumps with regular intervals between them. How would you adjust the connectivity kernel above in order to create this pattern of activity? You may answer this question by copying, pasting, and adjusting the code for `bump_synaptic_weights` or by writing below qualitatively.\n",
        "\n",
        "><font color=\"firebrick\">Answer here"
      ]
    },
    {
      "cell_type": "markdown",
      "metadata": {
        "id": "gtH9P5gvyNZs"
      },
      "source": [
        "## Part 3: Assessing the effect of noise on spike sorting [15]\n",
        "\n",
        "**Tetrodes** are one of the major tools in the physiologist's toolkit. These devices consist of four electrodes that can simultaneously record from nearby areas of the brain. In this exercise, you will be exploring how to identify neurons in a tetrode recording through **spike sorting**. In addition, you will assess how the quality of your results depend on noise and the number of recording electrodes.\n",
        "\n",
        "To get started, let's generate some synthetic data. Our recordings will be based on three waveforms corresponding to three distinct neurons. These waveforms are displayed below. Note that the sampling frequency is 10kHz. \n"
      ]
    },
    {
      "cell_type": "code",
      "metadata": {
        "id": "WGJ64M6VyFC7",
        "outputId": "300b5eb6-c05e-4870-88da-dbd03f85b74a",
        "colab": {
          "base_uri": "https://localhost:8080/",
          "height": 285
        }
      },
      "source": [
        "import numpy as np\n",
        "import random\n",
        "from matplotlib import pyplot as plt \n",
        "from scipy.stats import gamma, zscore\n",
        "\n",
        "random.seed(1)\n",
        "\n",
        "# Create spike waveforms\n",
        "s1 = [gamma.pdf(0.01*x, 1.2, loc=0, scale=0.1) for x in range(60)]\n",
        "s2 = [gamma.pdf(0.01*x, 2, loc=0, scale=0.1) for x in range(60)]\n",
        "s3 = [gamma.pdf(0.01*x, 1.5, loc=0, scale=0.1) for x in range(60)]\n",
        "s1/=max(s1)\n",
        "s2/=max(s2)\n",
        "s3/=max(s3)\n",
        "\n",
        "# Plot waveforms \n",
        "sf = 10e3\n",
        "time = np.arange(60)/sf\n",
        "plt.plot(time,s1,label='neuron 1')\n",
        "plt.plot(time,s2,label='neuron 2')\n",
        "plt.plot(time,s3,label='neuron 3')\n",
        "plt.xlabel('time (s)')\n",
        "plt.ylabel('amplitude')\n",
        "plt.legend()\n",
        "plt.show()"
      ],
      "execution_count": null,
      "outputs": [
        {
          "output_type": "display_data",
          "data": {
            "image/png": "[encoded data removed]",
            "text/plain": [
              "<Figure size 432x288 with 1 Axes>"
            ]
          },
          "metadata": {
            "tags": [],
            "needs_background": "light"
          }
        }
      ]
    },
    {
      "cell_type": "markdown",
      "metadata": {
        "id": "jaXkErexyXkH"
      },
      "source": [
        "The function defined below uses these waveforms and a noise term to generate voltage records. Note that the voltage amplitude for each neuron is scaled to reflect different positions of the electrodes relative to the recorded neurons (i.e. if the neurons are closer to the electrodes, their amplitudes will be larger)."
      ]
    },
    {
      "cell_type": "code",
      "metadata": {
        "id": "uUMk65sgyT83"
      },
      "source": [
        "def generateRecords(nChannels,noise,manualStarts=None):\n",
        "  '''Create multi-channel field recording.\n",
        "  ------\n",
        "  Inputs\n",
        "  ------\n",
        "  nChannels (int): number of recording channels\n",
        "  noise (float): noise coefficient \n",
        "  manualStarts (list): list of spike start times. If not provided, will compute these.\n",
        "  -------\n",
        "  Outputs\n",
        "  -------\n",
        "  records (array): multi-channel recording \n",
        "  starts (array): spike start times \n",
        "  '''\n",
        "  nSamps= 100000 # number of voltage samples \n",
        "  records = [] # contains recording channels \n",
        "  noise = noise*np.random.normal(size=nSamps) # recording noise\n",
        "  scalings = [(random.uniform(0,1),random.uniform(0,1),random.uniform(0,1)) \\\n",
        "              for i in range(nChannels)] # scales waveform amplitudes \n",
        "  \n",
        "  # Don't compute spike times if they are already provided  \n",
        "  if manualStarts:\n",
        "      starts = manualStarts\n",
        "      \n",
        "  else:\n",
        "      starts = [np.sort(np.random.randint(0,1600,20)*60) \\\n",
        "                for i in range(3)] # spike start times\n",
        "      \n",
        "  chunks = [[np.array([np.arange(s_i,s_i+60) for s_i in s[1:-1]])] \\\n",
        "            for s in starts] # spike events\n",
        "  \n",
        "  # Generate record for each electrode \n",
        "  for scale in scalings:\n",
        "      c1,c2,c3 = scale # scaling coefficients \n",
        "      z = np.zeros(nSamps) # voltage trace\n",
        "      z[tuple(chunks[0])] = s1*c1\n",
        "      z[tuple(chunks[1])] = s2*c2\n",
        "      z[tuple(chunks[2])] = s3*c3\n",
        "      z = z + noise # add noise \n",
        "      records.append(z)\n",
        "      \n",
        "  records = np.array(records)\n",
        "  \n",
        "  return records, starts\n"
      ],
      "execution_count": null,
      "outputs": []
    },
    {
      "cell_type": "markdown",
      "metadata": {
        "id": "nVU06gkaynZm"
      },
      "source": [
        "### Question 3.1 [1]\n",
        "Using this function, generate a plot of 10s of synthetic data for a tetrode (4 channels) with `noise = 0.5`  "
      ]
    },
    {
      "cell_type": "code",
      "metadata": {
        "id": "bCklHyLGycRr"
      },
      "source": [
        "## Code here ## "
      ],
      "execution_count": null,
      "outputs": []
    },
    {
      "cell_type": "markdown",
      "metadata": {
        "id": "2RNCv2Fqyrza"
      },
      "source": [
        "### Question 3.2 [1.5]\n",
        "Our goal is to identify different neurons in this noisy four-channel recording. To do this, we first need to extract spikes from the records. The function segmentSpikes extracts spikes and outputs an array \"segSpikes,\" where each row corresponds to an extracted spike time series. "
      ]
    },
    {
      "cell_type": "code",
      "metadata": {
        "id": "uaIp8xIcyo-Z"
      },
      "source": [
        "def segmentSpikes(records,thresh,skip,manualTimes=None):\n",
        "  '''Create multi-channel field recording.\n",
        "  ------\n",
        "  Inputs\n",
        "  ------\n",
        "  records (array): voltage recordings for all channels \n",
        "  thresh (list): z-score threshold for spike acceptance \n",
        "  skip (int): minimum time bins between consecutive spikes \n",
        "  manualTimes (list): list of spike start times. If not provided, will compute these.\n",
        "  -------\n",
        "  Outputs\n",
        "  -------\n",
        "  segSpikes (array): segmented spikes\n",
        "  spikeTimes (array): spike start times \n",
        "  '''\n",
        "  maxProject = np.max(records,axis=0) # max-projection of channels \n",
        "  locs = np.argwhere(zscore(maxProject) > thresh).flatten() # candidate spike positions\n",
        "  spikeTimes = [0] # intialize list of spike times\n",
        "\n",
        "  # Use manual times if provided. Otherwise, find spike times\n",
        "  if manualTimes:\n",
        "      spikeTimes = manualTimes\n",
        "      \n",
        "  else:\n",
        "      for l in locs:\n",
        "          if l > (spikeTimes[-1] + skip):\n",
        "              spikeTimes.append(l)\n",
        "      \n",
        "  # Segment spikes\n",
        "  segSpikes = np.array([maxProject[l-10:l+30] for l in spikeTimes[1:] \\\n",
        "                          if len(maxProject[l-10:l+30])==40])\n",
        "              \n",
        "  return segSpikes,spikeTimes\n",
        "\n",
        "        "
      ],
      "execution_count": null,
      "outputs": []
    },
    {
      "cell_type": "markdown",
      "metadata": {
        "id": "LfFQlPGhzPGO"
      },
      "source": [
        "Generate a plot of your extracted spikes from the question above. How many different waveforms do you see? Why does this make ense?\n",
        "\n",
        "**Hint**: A threshold of 2.56 and a skip value of 60 work well.\n",
        "\n",
        "><font color=\"firebrick\">Answer here"
      ]
    },
    {
      "cell_type": "code",
      "metadata": {
        "id": "TCqiUpKnzPe3"
      },
      "source": [
        "## Plotting code here ## "
      ],
      "execution_count": null,
      "outputs": []
    },
    {
      "cell_type": "markdown",
      "metadata": {
        "id": "tXZAUXVEzSke"
      },
      "source": [
        "### Question 3.3 [3]\n",
        "\n",
        "Now comes the fun part. Write a function that takes your \"segSpikes\" array and sorts these spikes into different groups. At a minimum, your function should return the predicted label for each extracted spike and generate a plot of the different spike waveforms and a plot of the first two principal components color-coded by group identity.\n",
        "\n",
        "**Important:** Even though we know we are recording three neurons, do not make any assumptions about the number of groups to cluster: you should find a way to test a set of clusters and then quantitatively determine the optimal number. \n",
        "\n",
        "**Hint:** You may find PCA, KMeans, and silhouette_score code from sklearn to be helpful here. "
      ]
    },
    {
      "cell_type": "code",
      "metadata": {
        "id": "ki8TKfLtzWRc"
      },
      "source": [
        "## Code here ## "
      ],
      "execution_count": null,
      "outputs": []
    },
    {
      "cell_type": "markdown",
      "metadata": {
        "id": "KV7fzt7xzeH3"
      },
      "source": [
        "### Question 3.4 [3]\n",
        "You will now assess the effect of noise on the quality of your spike sorting. (1) Write a function called \"analyze_noise\" that takes an array of noise levels `(np.linspace(0.005, 0.4, 6))` and returns a metric that quantifies the grouping quality. (2) Plot that metric as a function of different noise levels. (3) Your function should also generate a plot of the color-coded waveforms and PC1/2 for each noise level (or call a second function that makes those plots).\n",
        "\n",
        "**Hint:** If you are using KMeans to cluster your data, the silhouette score for each cluster assignment is a natural way to quantify sorting quality. In addition, reducing the dimensionality of your data (to say, 2 dimensions) will help you directly observe how noise infleunces your clusters. \n",
        "\n",
        "**Hint:** The way the function (`generateRecords`) was written for you above means that you should use the spike times from the first (lowest noise) iteration for the remaining interations. In other words, extract \"starts\" from generateRecords and \"spikeTimes\" from segmentSpikes for the lowest noise case. For all subsequent noise levels, feed \"starts\" into generateRecords and \"spikeTimes\" into segmentSpikes. \n"
      ]
    },
    {
      "cell_type": "code",
      "metadata": {
        "id": "zQ42yfxmzaeL"
      },
      "source": [
        "## Code here ## "
      ],
      "execution_count": null,
      "outputs": []
    },
    {
      "cell_type": "markdown",
      "metadata": {
        "id": "deO9dvQXzpwH"
      },
      "source": [
        "### Question 3.5 [2] \n",
        "Interpret your results from the noise analysis. \n",
        "\n",
        "**(1)** How does noise affect the quality of your spike sorting algorithm? Be sure to use your generated graphs and quantitative metric to support your argument. \n",
        "\n",
        "><font color=\"firebrick\">Answer here\n",
        "\n",
        "**(2)** List at least one way you may be able to improve the signal/noise ratio during extracellular recordings. \n",
        "\n",
        "><font color=\"firebrick\">Answer here"
      ]
    },
    {
      "cell_type": "markdown",
      "metadata": {
        "id": "9z2dYaO2zrbd"
      },
      "source": [
        "### Question 3.6 [2]\n",
        "Finally, you will assess the performance of your spike sorting algorithm as a function of the number of recorded channels. Write a function called \"analyze_channels\" that takes as input (1) a list containing the number of channels (between 2 and 10) and (2) a noise coefficient of 0.3. For each channel number, you should average your quality metric across at least 10 iterations in order to best observe the trend. Plot the average quality metric as a function of number of recorded channels.  \n",
        "\n",
        "**Hint:** using a tqdm progress bar in your first for loop may be helpful here."
      ]
    },
    {
      "cell_type": "code",
      "metadata": {
        "id": "4uH6Y00azl-P"
      },
      "source": [
        "## Code here ## "
      ],
      "execution_count": null,
      "outputs": []
    },
    {
      "cell_type": "markdown",
      "metadata": {
        "id": "Sd20cmr0z5NA"
      },
      "source": [
        "### Question 3.7 [2.5]\n",
        "Interpret your results from the channel analysis. \n",
        "\n",
        "**(1)** Does increasing the number of channels improve your spike sorting algorithm according to your quality metric? Explain your observations.\n",
        "\n",
        "><font color=\"firebrick\">Answer here\n",
        "\n",
        "**(2)** How do you think your results would change if the noise level were much lower? Justify your answer. You may experiment with different noise levels in your \"analyze_channels\" function. \n",
        "\n",
        "><font color=\"firebrick\">Answer here"
      ]
    }
  ]
}